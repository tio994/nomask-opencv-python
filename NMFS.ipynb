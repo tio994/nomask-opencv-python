{
 "cells": [
  {
   "cell_type": "code",
   "execution_count": 1,
   "metadata": {},
   "outputs": [
    {
     "name": "stdout",
     "output_type": "stream",
     "text": [
      "Muhammad Setyo H_0.jpg written!\n",
      "Muhammad Setyo H_1.jpg written!\n",
      "Muhammad Setyo H_2.jpg written!\n",
      "Escape hit, closing...\n"
     ]
    }
   ],
   "source": [
    "import numpy as np\n",
    "import cv2\n",
    "import winsound\n",
    "\n",
    "#Library Untuk Mendeteksi Muka\n",
    "face_cascade = cv2.CascadeClassifier('haarcascade/haarcascade_frontalface_default.xml')\n",
    "#Library Untuk Mendeteksi Mata\n",
    "eye_cascade = cv2.CascadeClassifier('haarcascade/haarcascade_nose.xml')\n",
    "\n",
    "#Untuk menjadikan video sebagai pendeteksinya\n",
    "cap = cv2.VideoCapture(0)\n",
    "img_counter = 0\n",
    "\n",
    "while True:\n",
    "#Untuk Mengatur scale muka \n",
    "    ret, img = cap.read()\n",
    "    gray = cv2.cvtColor(img, cv2.COLOR_BGR2GRAY)\n",
    "    faces = face_cascade.detectMultiScale(gray, 1.3, 5) \n",
    "    for (x,y,w,h) in faces:\n",
    "        cv2.rectangle(img,(x,y),(x+w,y+h),(255,0,0),2)\n",
    "        roi_gray = gray[y:y+h, x:x+w]\n",
    "        roi_color = img[y:y+h, x:x+w]\n",
    "        \n",
    "#Untuk Mengatur scale Hidung  \n",
    "        eyes = eye_cascade.detectMultiScale(roi_gray)\n",
    "        for (ex,ey,ew,eh) in eyes:\n",
    "            cv2.rectangle(roi_color,(ex,ey),(ex+ew,ey+eh),(0,255,0),2)\n",
    "            winsound.PlaySound('Pakai masker.wav', winsound.SND_FILENAME)\n",
    "#             Mengambil Gambar\n",
    "            img_name = \"Muhammad Setyo H_{}.jpg\".format(img_counter)\n",
    "            cv2.imwrite(img_name, img)\n",
    "            print(\"{} written!\".format(img_name))\n",
    "            img_counter += 1\n",
    "            \n",
    "#menampilkan video live\n",
    "    cv2.imshow('img',img)\n",
    "#Tombol Space untuk menggambil gambar dan menjadikannya format jpg\n",
    "\n",
    "    \n",
    "    k = cv2.waitKey(1)\n",
    "    if k%256 == 27:\n",
    "        # ESC pressed\n",
    "        print(\"Escape hit, closing...\")\n",
    "        break\n",
    "    elif k%256 == 32:\n",
    "        # SPACE pressed\n",
    "        img_name = \"Muhammad Setyo H_{}.jpg\".format(img_counter)\n",
    "        cv2.imwrite(img_name, img)\n",
    "        print(\"{} written!\".format(img_name))\n",
    "        img_counter += 1\n",
    "      # Press Q on keyboard to  exit\n",
    "    elif cv2.waitKey(25) & 0xFF == ord('q'):\n",
    "        print(\"Escape hit, closing...\")\n",
    "        break\n",
    "\n",
    "#menampilkan video\n",
    "cap.release()\n",
    "cv2.destroyAllWindows()"
   ]
  },
  {
   "cell_type": "code",
   "execution_count": null,
   "metadata": {},
   "outputs": [],
   "source": []
  }
 ],
 "metadata": {
  "kernelspec": {
   "display_name": "Python 3",
   "language": "python",
   "name": "python3"
  },
  "language_info": {
   "codemirror_mode": {
    "name": "ipython",
    "version": 3
   },
   "file_extension": ".py",
   "mimetype": "text/x-python",
   "name": "python",
   "nbconvert_exporter": "python",
   "pygments_lexer": "ipython3",
   "version": "3.8.5"
  }
 },
 "nbformat": 4,
 "nbformat_minor": 4
}
